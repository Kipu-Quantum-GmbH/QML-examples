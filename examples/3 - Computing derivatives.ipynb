{
 "cells": [
  {
   "cell_type": "markdown",
   "metadata": {},
   "source": [
    "# Derivatives\n",
    "\n",
    "In order to fit the ideal set of parameters minimizing a cost or loss function, gradient based approaches are quite popular as being aware of the direction in which this cost function is minimized it may shorten the time required for the method to find it target.\n",
    "\n",
    "Quantum circuits have a similar capacity, we can free up the parameters of a given circuit and optimize based on a cost function which in most cases can be represented by the expectation value over some observable. For this, we would need to understand how these derivatives can be computed... at scale."
   ]
  },
  {
   "cell_type": "code",
   "execution_count": 1,
   "metadata": {},
   "outputs": [
    {
     "data": {
      "text/html": [
       "<pre style=\"word-wrap: normal;white-space: pre;background: #fff0;line-height: 1.1;font-family: &quot;Courier New&quot;,Courier,monospace\">   ┌───────┐\n",
       "q: ┤ Ry(a) ├\n",
       "   └───────┘</pre>"
      ],
      "text/plain": [
       "   ┌───────┐\n",
       "q: ┤ Ry(a) ├\n",
       "   └───────┘"
      ]
     },
     "execution_count": 1,
     "metadata": {},
     "output_type": "execute_result"
    }
   ],
   "source": [
    "from qiskit import QuantumCircuit\n",
    "from qiskit.circuit import Parameter\n",
    "\n",
    "a = Parameter('a')\n",
    "\n",
    "qc = QuantumCircuit(1)\n",
    "qc.ry(a, 0)\n",
    "qc.draw()"
   ]
  },
  {
   "cell_type": "markdown",
   "metadata": {},
   "source": [
    "This is a simple rotation over the Y axis of the bloch sphere. So we know that if we measure the observable X of a given state produced by this rotation we get:\n",
    "\n",
    "$$\n",
    "\n",
    "\\langle Y(a) | X | Y(a) \\rangle = \\sin(\\pi a)\n",
    "\n",
    "$$"
   ]
  },
  {
   "cell_type": "code",
   "execution_count": 2,
   "metadata": {},
   "outputs": [
    {
     "name": "stdout",
     "output_type": "stream",
     "text": [
      "Statevector([0.89100652+0.j, 0.4539905 +0.j],\n",
      "            dims=(2,))\n"
     ]
    }
   ],
   "source": [
    "import numpy as np\n",
    "from qiskit.quantum_info import Statevector\n",
    " \n",
    "init = QuantumCircuit(1)\n",
    "state = Statevector(init)\n",
    "\n",
    "val = 0.3\n",
    "circ = qc.assign_parameters({a : np.pi*0.3})\n",
    "eval = state.evolve(circ)\n",
    "print(eval)"
   ]
  },
  {
   "cell_type": "code",
   "execution_count": 3,
   "metadata": {},
   "outputs": [
    {
     "name": "stdout",
     "output_type": "stream",
     "text": [
      "<Ry|X|Ry> : 0.8090169943749475\n",
      "Sin function: 0.8090169943749475\n"
     ]
    }
   ],
   "source": [
    "from qiskit.quantum_info import Pauli\n",
    "\n",
    "# Target hamiltonian\n",
    "op = Pauli('X')\n",
    "\n",
    "print(f\"<Ry|X|Ry> : {eval.expectation_value(oper=op)}\")\n",
    "print(f\"Sin function: {np.sin(np.pi * val)}\")"
   ]
  },
  {
   "cell_type": "markdown",
   "metadata": {},
   "source": [
    "Then we know we could calculate its derivative as $\\pi\\cos(\\pi a)$. This may not be an option for when we go to hardware and we make the circuit much more complicated in terms of gates (in particular multiqubit gates). Enter numerical resolution of derivatives!\n",
    "\n",
    "We can produce an approximation to our target by leveraging finite differences for numerical approximation, taking into consideration the limit:\n",
    "\n",
    "$$\n",
    "\n",
    "f^{'}(a) = \\lim_{h \\rightarrow 0} \\frac{f(a + h) - f(a)}{h}\n",
    "\n",
    "$$\n",
    "\n",
    "which essentially only requires two evaluations of our function."
   ]
  },
  {
   "cell_type": "code",
   "execution_count": 4,
   "metadata": {},
   "outputs": [
    {
     "name": "stdout",
     "output_type": "stream",
     "text": [
      "Finite difference: 1.8425864574259654\n",
      "Cosine formula:    1.8465818304904567\n"
     ]
    }
   ],
   "source": [
    "state = Statevector(init)\n",
    "\n",
    "val = 0.3\n",
    "h = 0.001\n",
    "\n",
    "# Get the expectation value for f(x)\n",
    "circ = qc.assign_parameters({a : np.pi*0.3})\n",
    "eval = state.evolve(circ)\n",
    "exp_val = eval.expectation_value(oper=op)\n",
    "\n",
    "# Get the expectation value for f(x+h)\n",
    "circ = qc.assign_parameters({a : np.pi*(0.3+h)})\n",
    "eval = state.evolve(circ)\n",
    "exp_val_eps = eval.expectation_value(oper=op)\n",
    "\n",
    "print('Finite difference:', (exp_val_eps - exp_val) / h)\n",
    "print('Cosine formula:   ', np.pi * np.cos(np.pi * val))"
   ]
  },
  {
   "cell_type": "markdown",
   "metadata": {},
   "source": [
    "With a varying number of observables and compositions, this is what automatic differentiation frameworks can provide by tracking values and benefitting from the composable nature of the numerical approximations. More information in [https://www.tensorflow.org/quantum/tutorials/gradients#2_the_need_for_a_differentiator](https://www.tensorflow.org/quantum/tutorials/gradients#2_the_need_for_a_differentiator)"
   ]
  },
  {
   "cell_type": "code",
   "execution_count": 5,
   "metadata": {},
   "outputs": [
    {
     "data": {
      "image/png": "[encoded data removed]",
      "text/plain": [
       "<Figure size 370.704x117.056 with 1 Axes>"
      ]
     },
     "metadata": {},
     "output_type": "display_data"
    }
   ],
   "source": [
    "import numpy as np\n",
    "from qiskit.quantum_info import SparsePauliOp\n",
    "from qiskit.circuit import QuantumCircuit, QuantumRegister, Parameter\n",
    "\n",
    "# Instantiate the quantum circuit\n",
    "a = Parameter('a')\n",
    "b = Parameter('b')\n",
    "\n",
    "# Circuit\n",
    "q = QuantumRegister(1)\n",
    "qc = QuantumCircuit(q)\n",
    "qc.h(q)\n",
    "qc.rz(a, q[0])\n",
    "qc.rx(b, q[0])\n",
    "\n",
    "# Instantiate the Hamiltonian observable 2X+Z\n",
    "H = SparsePauliOp.from_list([('X', 2), ('Z',1)])\n",
    "\n",
    "# Parameter list\n",
    "params = [[np.pi / 4, 0]]\n",
    "\n",
    "display(qc.draw('mpl', style = \"clifford\"))"
   ]
  },
  {
   "cell_type": "code",
   "execution_count": 6,
   "metadata": {},
   "outputs": [
    {
     "name": "stdout",
     "output_type": "stream",
     "text": [
      "State estimator gradient computed with parameter shift [array([-1.41421356,  0.70710678])]\n"
     ]
    }
   ],
   "source": [
    "from qiskit.primitives import Estimator\n",
    "from qiskit_algorithms.gradients import ParamShiftEstimatorGradient\n",
    "\n",
    "# Define the estimator\n",
    "estimator = Estimator()\n",
    "# Define the gradient\n",
    "gradient = ParamShiftEstimatorGradient(estimator)\n",
    "\n",
    "# Evaluate the gradient of the circuits using parameter shift gradients\n",
    "pse_grad_result = gradient.run(qc, H,  params).result().gradients\n",
    "print('State estimator gradient computed with parameter shift', pse_grad_result)"
   ]
  }
 ],
 "metadata": {
  "kernelspec": {
   "display_name": ".venv",
   "language": "python",
   "name": "python3"
  },
  "language_info": {
   "codemirror_mode": {
    "name": "ipython",
    "version": 3
   },
   "file_extension": ".py",
   "mimetype": "text/x-python",
   "name": "python",
   "nbconvert_exporter": "python",
   "pygments_lexer": "ipython3",
   "version": "3.10.13"
  }
 },
 "nbformat": 4,
 "nbformat_minor": 2
}
