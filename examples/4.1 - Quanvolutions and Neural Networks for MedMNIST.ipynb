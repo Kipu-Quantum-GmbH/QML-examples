{
 "cells": [
  {
   "cell_type": "markdown",
   "metadata": {},
   "source": [
    "# Images\n",
    "\n",
    "Images are always tricky to manage in classical environments but really complex structures have been leveraged lately that provide really impressive results in difficult scenarios (cancer detection in breast radiography for example)."
   ]
  },
  {
   "cell_type": "code",
   "execution_count": 1,
   "metadata": {},
   "outputs": [
    {
     "name": "stdout",
     "output_type": "stream",
     "text": [
      "The number of classe are:  2 \n",
      "And the number of channels:  1 \n",
      "And the task is:  binary-class\n"
     ]
    }
   ],
   "source": [
    "import medmnist\n",
    "from medmnist import INFO\n",
    "\n",
    "info = INFO['breastmnist']\n",
    "task = info['task']\n",
    "n_channels = info['n_channels']\n",
    "n_classes = len(info['label'])\n",
    "\n",
    "DataClass = getattr(medmnist,info['python_class'])\n",
    "\n",
    "print('The number of classe are: ', n_classes,'\\nAnd the number of channels: ', n_channels, '\\nAnd the task is: ',task)"
   ]
  },
  {
   "cell_type": "code",
   "execution_count": null,
   "metadata": {},
   "outputs": [],
   "source": [
    "# load the data\n",
    "train_dataset = DataClass(split='train', download=True)\n",
    "test_dataset = DataClass(split='test', download=True)"
   ]
  },
  {
   "cell_type": "code",
   "execution_count": 3,
   "metadata": {},
   "outputs": [],
   "source": [
    "import numpy as np\n",
    "\n",
    "n_train = 546   # Size of the train dataset\n",
    "n_test = 156    # Size of the test dataset\n",
    "\n",
    "# Reshape the images\n",
    "train_imgs_tf = np.reshape(train_dataset.imgs[:n_train], (n_train,28,28,1))\n",
    "test_imgs_tf = np.reshape(test_dataset.imgs[:n_test], (n_test,28,28,1))\n",
    "\n",
    "# Load the labels\n",
    "train_labels_tf = np.reshape(train_dataset.labels[:n_train], (n_train,))\n",
    "test_labels_tf = np.reshape(test_dataset.labels[:n_test], (n_test,))\n",
    "\n",
    "# Reduce dataset size\n",
    "train_imgs_tf = train_imgs_tf[:n_train]\n",
    "train_labels_tf = train_labels_tf[:n_train]\n",
    "test_imgs_tf = test_imgs_tf[:n_test]\n",
    "test_labels_tf = test_labels_tf[:n_test]\n",
    "\n",
    "# Normalize pixel values within 0 and 1\n",
    "train_imgs_tf = (train_imgs_tf / 255)*np.pi\n",
    "test_imgs_tf = (test_imgs_tf / 255)*np.pi"
   ]
  },
  {
   "cell_type": "code",
   "execution_count": 4,
   "metadata": {},
   "outputs": [
    {
     "data": {
      "image/png": "[encoded data removed]",
      "text/plain": [
       "<Figure size 1000x1000 with 4 Axes>"
      ]
     },
     "metadata": {},
     "output_type": "display_data"
    }
   ],
   "source": [
    "import matplotlib.pyplot as plt\n",
    "\n",
    "n_samples = 4\n",
    "n_channels = 4\n",
    "fig, axes = plt.subplots(1, n_samples, figsize=(10, 10))\n",
    "for k in range(n_samples):\n",
    "    axes[0].set_ylabel(\"Input\")\n",
    "    if k != 0:\n",
    "        axes[k].yaxis.set_visible(False)\n",
    "    axes[k].imshow(train_imgs_tf[k, :, :, 0], cmap=\"gray\")\n",
    "\n",
    "plt.tight_layout()\n",
    "plt.show()"
   ]
  },
  {
   "cell_type": "markdown",
   "metadata": {},
   "source": [
    "Can you tell which one has cancer? Me neither. Let's see if the model can. We will create a simple funnel type of architecture down to the two classes we would like to be detected."
   ]
  },
  {
   "cell_type": "code",
   "execution_count": 5,
   "metadata": {},
   "outputs": [
    {
     "name": "stdout",
     "output_type": "stream",
     "text": [
      "Iteration 1, loss = 0.65528992\n",
      "Iteration 2, loss = 0.56395755\n",
      "Iteration 3, loss = 0.52825156\n",
      "Iteration 4, loss = 0.50769647\n",
      "Iteration 5, loss = 0.49627175\n",
      "Iteration 6, loss = 0.49639649\n",
      "Iteration 7, loss = 0.48041723\n",
      "Iteration 8, loss = 0.47358274\n",
      "Training set score: 0.791209\n"
     ]
    }
   ],
   "source": [
    "import warnings\n",
    "\n",
    "from sklearn.exceptions import ConvergenceWarning\n",
    "from sklearn.neural_network import MLPClassifier\n",
    "\n",
    "# Reshape the dimensions\n",
    "train_imgs_tf = train_imgs_tf.reshape(546,28*28)\n",
    "test_imgs_tf = test_imgs_tf.reshape(156,28*28)\n",
    "\n",
    "# Build model\n",
    "mlp = MLPClassifier(\n",
    "    hidden_layer_sizes=(250, 50, 10),\n",
    "    max_iter=8,\n",
    "    alpha=1e-4,\n",
    "    solver=\"sgd\",\n",
    "    verbose=10,\n",
    "    random_state=1,\n",
    "    learning_rate_init=0.01,\n",
    ")\n",
    "\n",
    "# this example won't converge because of resource usage constraints on\n",
    "# our Continuous Integration infrastructure, so we catch the warning and\n",
    "# ignore it here\n",
    "with warnings.catch_warnings():\n",
    "    warnings.filterwarnings(\"ignore\", category=ConvergenceWarning, module=\"sklearn\")\n",
    "    mlp.fit(train_imgs_tf, train_labels_tf)\n",
    "\n",
    "print(\"Training set score: %f\" % mlp.score(train_imgs_tf, train_labels_tf))"
   ]
  },
  {
   "cell_type": "code",
   "execution_count": 6,
   "metadata": {},
   "outputs": [
    {
     "name": "stdout",
     "output_type": "stream",
     "text": [
      "Test set score: 0.807692\n"
     ]
    }
   ],
   "source": [
    "print(\"Test set score: %f\" % mlp.score(test_imgs_tf, test_labels_tf))"
   ]
  },
  {
   "cell_type": "markdown",
   "metadata": {},
   "source": [
    "Not bad. We could also look for the classification report."
   ]
  },
  {
   "cell_type": "code",
   "execution_count": 30,
   "metadata": {},
   "outputs": [
    {
     "name": "stdout",
     "output_type": "stream",
     "text": [
      "              precision    recall  f1-score   support\n",
      "\n",
      "           0       0.45      0.73      0.56        26\n",
      "           1       0.94      0.82      0.88       130\n",
      "\n",
      "    accuracy                           0.81       156\n",
      "   macro avg       0.70      0.78      0.72       156\n",
      "weighted avg       0.86      0.81      0.82       156\n",
      "\n"
     ]
    }
   ],
   "source": [
    "from sklearn.metrics import classification_report\n",
    "\n",
    "y_test = mlp.predict(test_imgs_tf)\n",
    "print(classification_report(y_test, test_labels_tf))"
   ]
  },
  {
   "cell_type": "markdown",
   "metadata": {},
   "source": [
    "Now we would like to check if quantum can help at any point discriminating better between our two classes."
   ]
  },
  {
   "cell_type": "code",
   "execution_count": 31,
   "metadata": {},
   "outputs": [],
   "source": [
    "from qiskit.quantum_info import SparsePauliOp\n",
    "\n",
    "# Generate an observable\n",
    "observable = SparsePauliOp(\"ZIII\") + SparsePauliOp(\"IZII\") + SparsePauliOp(\"IIZI\") + SparsePauliOp(\"IIIZ\")"
   ]
  },
  {
   "cell_type": "code",
   "execution_count": 32,
   "metadata": {},
   "outputs": [
    {
     "data": {
      "image/png": "[encoded data removed]",
      "text/plain": [
       "<Figure size 371.107x367.889 with 1 Axes>"
      ]
     },
     "execution_count": 32,
     "metadata": {},
     "output_type": "execute_result"
    }
   ],
   "source": [
    "import warnings\n",
    "warnings.filterwarnings(\"ignore\", category=FutureWarning)\n",
    "\n",
    "import numpy as np\n",
    "from squlearn.encoding_circuit.layered_encoding_circuit import LayeredEncodingCircuit\n",
    "\n",
    "# Empty LayeredEncodingCircuit with 4 qubits and a one-dimensional input\n",
    "lfm = LayeredEncodingCircuit(num_qubits=4, num_features=4)\n",
    "\n",
    "def multiply_pi(x):\n",
    "    return x * np.pi\n",
    "\n",
    "# Create the encoding circuit via gate operations\n",
    "lfm.Ry(\"x\", encoding=multiply_pi)\n",
    "lfm.cx_entangling(ent_strategy=\"NN\") # AA\n",
    "\n",
    "lfm.draw(\"mpl\")"
   ]
  },
  {
   "cell_type": "code",
   "execution_count": 33,
   "metadata": {},
   "outputs": [],
   "source": [
    "from squlearn.util import Executor\n",
    "\n",
    "executor = Executor(\"statevector_simulator\")\n",
    "\n",
    "# Get the Executor Estimator Primitive and call run:\n",
    "estimator = executor.get_estimator()\n",
    "\n",
    "def quanv(image):\n",
    "    \"\"\"Convolves the input image with many applications of the same quantum circuit.\"\"\"\n",
    "    out = np.zeros((14, 14))\n",
    "\n",
    "    # Loop over the coordinates of the top-left pixel of 2X2 squares\n",
    "    for j in range(0, 28, 2):\n",
    "        for k in range(0, 28, 2):\n",
    "            # Process a squared 2x2 region of the image with a quantum circuit\n",
    "            circ = lfm.get_circuit(features=[\n",
    "                    image[j, k],\n",
    "                    image[j, k + 1],\n",
    "                    image[j + 1, k],\n",
    "                    image[j + 1, k + 1]\n",
    "                ], parameters=None)\n",
    "            result = estimator.run(circ, observable, shots=1024).result()\n",
    "            # Assign expectation values to different channels of the output pixel (j/2, k/2)\n",
    "            for c in range(4):\n",
    "                out[j // 2, k // 2] = result.values[0]\n",
    "    return out"
   ]
  },
  {
   "cell_type": "code",
   "execution_count": 29,
   "metadata": {},
   "outputs": [
    {
     "name": "stdout",
     "output_type": "stream",
     "text": [
      "Quantum pre-processing of train images:\n",
      "546/546        \r"
     ]
    }
   ],
   "source": [
    "train_imgs_tf = train_imgs_tf.reshape(546,28, 28)\n",
    "\n",
    "q_train_images = []\n",
    "print(\"Quantum pre-processing of train images:\")\n",
    "for idx, img in enumerate(train_imgs_tf):\n",
    "    print(\"{}/{}        \".format(idx + 1, len(train_imgs_tf)), end=\"\\r\")\n",
    "    q_train_images.append(quanv(img))\n",
    "q_train_images = np.asarray(q_train_images)\n",
    "\n",
    "# Save pre-processed images\n",
    "np.save(\"q_train_images.npy\", q_train_images)"
   ]
  },
  {
   "cell_type": "markdown",
   "metadata": {},
   "source": [
    "Saving the results may help us when classical model needs to be modified and data is not needed to be processed again."
   ]
  },
  {
   "cell_type": "code",
   "execution_count": 34,
   "metadata": {},
   "outputs": [],
   "source": [
    "q_train_images = np.load(\"q_train_images.npy\")"
   ]
  },
  {
   "cell_type": "code",
   "execution_count": 43,
   "metadata": {},
   "outputs": [
    {
     "data": {
      "image/png": "[encoded data removed]",
      "text/plain": [
       "<Figure size 1000x1000 with 8 Axes>"
      ]
     },
     "metadata": {},
     "output_type": "display_data"
    }
   ],
   "source": [
    "import matplotlib.pyplot as plt\n",
    "\n",
    "# Reshape\n",
    "train_imgs_tf = train_imgs_tf.reshape(546,28, 28, 1)\n",
    "\n",
    "n_samples = 4\n",
    "fig, axes = plt.subplots(2, n_samples, figsize=(10, 10))\n",
    "for k in range(n_samples):\n",
    "    axes[0, 0].set_ylabel(\"Input\")\n",
    "    if k != 0:\n",
    "        axes[0, k].yaxis.set_visible(False)\n",
    "    axes[0, k].imshow(train_imgs_tf[k, :, :, 0], cmap=\"gray\")\n",
    "\n",
    "    # Plot all output channels\n",
    "    axes[1, 0].set_ylabel(\"Quantum convolution\")\n",
    "    if k != 0:\n",
    "        axes[1, k].yaxis.set_visible(False)\n",
    "    axes[1, k].imshow(q_train_images[k, :, :], cmap=\"gray\")\n",
    "\n",
    "plt.tight_layout()\n",
    "plt.show()"
   ]
  },
  {
   "cell_type": "code",
   "execution_count": 44,
   "metadata": {},
   "outputs": [
    {
     "name": "stdout",
     "output_type": "stream",
     "text": [
      "Iteration 1, loss = 0.61367553\n",
      "Iteration 2, loss = 0.58990726\n",
      "Iteration 3, loss = 0.56802659\n",
      "Iteration 4, loss = 0.55083711\n",
      "Iteration 5, loss = 0.53580084\n",
      "Iteration 6, loss = 0.52001059\n",
      "Iteration 7, loss = 0.50496205\n",
      "Iteration 8, loss = 0.48708556\n",
      "Training set score: 0.774725\n"
     ]
    }
   ],
   "source": [
    "q_X_train = q_train_images.reshape(546, 14*14)\n",
    "\n",
    "mlp = MLPClassifier(\n",
    "    hidden_layer_sizes=(250, 50, 10),\n",
    "    max_iter=8,\n",
    "    alpha=1e-4,\n",
    "    solver=\"sgd\",\n",
    "    verbose=10,\n",
    "    random_state=1,\n",
    "    learning_rate_init=0.01,\n",
    ")\n",
    "\n",
    "# this example won't converge because of resource usage constraints on\n",
    "# our Continuous Integration infrastructure, so we catch the warning and\n",
    "# ignore it here\n",
    "with warnings.catch_warnings():\n",
    "    warnings.filterwarnings(\"ignore\", category=ConvergenceWarning, module=\"sklearn\")\n",
    "    mlp.fit(q_X_train, train_labels_tf)\n",
    "\n",
    "print(\"Training set score: %f\" % mlp.score(q_X_train, train_labels_tf))"
   ]
  },
  {
   "cell_type": "code",
   "execution_count": 31,
   "metadata": {},
   "outputs": [
    {
     "name": "stdout",
     "output_type": "stream",
     "text": [
      "Quantum pre-processing of train images:\n",
      "156/156        \r"
     ]
    }
   ],
   "source": [
    "test_imgs_tf = test_imgs_tf.reshape(156,28, 28)\n",
    "\n",
    "q_test_images = []\n",
    "print(\"Quantum pre-processing of train images:\")\n",
    "for idx, img in enumerate(test_imgs_tf):\n",
    "    print(\"{}/{}        \".format(idx + 1, len(test_imgs_tf)), end=\"\\r\")\n",
    "    q_test_images.append(quanv(img))\n",
    "q_test_images = np.asarray(q_test_images)\n",
    "\n",
    "# Save pre-processed images\n",
    "np.save(\"q_test_images.npy\", q_test_images)"
   ]
  },
  {
   "cell_type": "markdown",
   "metadata": {},
   "source": [
    "Same as with the training dataset."
   ]
  },
  {
   "cell_type": "code",
   "execution_count": 45,
   "metadata": {},
   "outputs": [],
   "source": [
    "q_test_images = np.load(\"q_test_images.npy\")"
   ]
  },
  {
   "cell_type": "code",
   "execution_count": 46,
   "metadata": {},
   "outputs": [
    {
     "name": "stdout",
     "output_type": "stream",
     "text": [
      "Test set score: 0.724359\n"
     ]
    }
   ],
   "source": [
    "q_X_test = q_test_images.reshape(156, 14*14)\n",
    "\n",
    "print(\"Test set score: %f\" % mlp.score(q_X_test, test_labels_tf))"
   ]
  },
  {
   "cell_type": "code",
   "execution_count": 47,
   "metadata": {},
   "outputs": [
    {
     "name": "stdout",
     "output_type": "stream",
     "text": [
      "              precision    recall  f1-score   support\n",
      "\n",
      "           0       0.07      0.43      0.12         7\n",
      "           1       0.96      0.74      0.84       149\n",
      "\n",
      "    accuracy                           0.72       156\n",
      "   macro avg       0.52      0.58      0.48       156\n",
      "weighted avg       0.92      0.72      0.80       156\n",
      "\n"
     ]
    }
   ],
   "source": [
    "y_test = mlp.predict(q_X_test)\n",
    "print(classification_report(y_test, test_labels_tf))"
   ]
  },
  {
   "cell_type": "markdown",
   "metadata": {},
   "source": [
    "Well, we would need to see if there is a point where Quantum Convolutions enhance the behavior of their classical counterparts because this simplistic attempt biased even more our results."
   ]
  }
 ],
 "metadata": {
  "kernelspec": {
   "display_name": ".venv",
   "language": "python",
   "name": "python3"
  },
  "language_info": {
   "codemirror_mode": {
    "name": "ipython",
    "version": 3
   },
   "file_extension": ".py",
   "mimetype": "text/x-python",
   "name": "python",
   "nbconvert_exporter": "python",
   "pygments_lexer": "ipython3",
   "version": "3.11.6"
  }
 },
 "nbformat": 4,
 "nbformat_minor": 2
}
